{
  "nbformat": 4,
  "nbformat_minor": 0,
  "metadata": {
    "colab": {
      "provenance": [],
      "authorship_tag": "ABX9TyN0jAQlMm60XXdPxmm/Kb5C",
      "include_colab_link": true
    },
    "kernelspec": {
      "name": "python3",
      "display_name": "Python 3"
    },
    "language_info": {
      "name": "python"
    }
  },
  "cells": [
    {
      "cell_type": "markdown",
      "metadata": {
        "id": "view-in-github",
        "colab_type": "text"
      },
      "source": [
        "<a href=\"https://colab.research.google.com/github/harvard-visionlab/onboarding/blob/main/notebooks/visionlab_use_snippets.ipynb\" target=\"_parent\"><img src=\"https://colab.research.google.com/assets/colab-badge.svg\" alt=\"Open In Colab\"/></a>"
      ]
    },
    {
      "cell_type": "markdown",
      "source": [
        "# How to use code snippets\n",
        "\n",
        "We have a number of standard \"visionlab\" code snippets that you might want to use. You can see them [https://colab.research.google.com/drive/16w0Q-KFqH98zFKtp9w3HGO31wSToRvS6#scrollTo=qQ0ALKl3Vm6m](https://colab.research.google.com/drive/16w0Q-KFqH98zFKtp9w3HGO31wSToRvS6#scrollTo=qQ0ALKl3Vm6m).\n",
        "\n",
        "To setup access to these snippets in colab, you just goto Tools => Settings, then under \"custom snippet notebook URL\", paste the url to your snippets. You can paste multiple URLs (one at a time), e.g., if you want to write your own \"snippets\".\n",
        "\n",
        "Once the url is pasted, you might have to refresh the page for the current notebook to be able to search your snippet notebook(s).\n",
        "\n",
        "In the menu-bar to the left click on the < > Icon to open up snippets. Visionlab snippets are prefaced with \"visionlab\" so you can start by typing visionlab. Once you see a snippet you want, you can highlight it an click \"insert\" and the code should be pasted in your notebook.\n",
        "\n",
        "I'll try that with the \"setup_ssh_keys\" function:"
      ],
      "metadata": {
        "id": "ac5TspwCYofJ"
      }
    },
    {
      "cell_type": "code",
      "source": [
        "def setup_ssh_keys(github_email, github_usernmae):\n",
        "    import os\n",
        "    import base64\n",
        "    from google.colab import userdata\n",
        "\n",
        "    !mkdir -p /root/.ssh\n",
        "\n",
        "    # Write the secret to a file\n",
        "    with open('/root/.ssh/id_ed25519.pub', 'wb') as file:\n",
        "        file.write(base64.b64decode(userdata.get('SSH_PUBLIC_BASE64')))\n",
        "\n",
        "    with open('/root/.ssh/id_ed25519', 'wb') as file:\n",
        "        file.write(base64.b64decode(userdata.get('SSH_PRIVATE_BASE64')))\n",
        "\n",
        "    # Set the correct permissions for the private key file\n",
        "    os.chmod('/root/.ssh/id_ed25519', 0o600)\n",
        "\n",
        "    !eval \"$(ssh-agent -s)\"\n",
        "    !ssh-keyscan -t rsa github.com >> ~/.ssh/known_hosts\n",
        "    !ssh -T git@github.com\n",
        "\n",
        "    !git config --global user.email {github_email}\n",
        "    !git config --global user.name {github_usernmae}"
      ],
      "metadata": {
        "id": "lykXf_CSZlQ8"
      },
      "execution_count": 1,
      "outputs": []
    },
    {
      "cell_type": "code",
      "execution_count": 2,
      "metadata": {
        "colab": {
          "base_uri": "https://localhost:8080/"
        },
        "id": "jAf-ttnvYJSt",
        "outputId": "816f5560-7869-4aac-f127-d1c080018ddd"
      },
      "outputs": [
        {
          "output_type": "stream",
          "name": "stdout",
          "text": [
            "Agent pid 418\n",
            "# github.com:22 SSH-2.0-babeld-acf36093d\n",
            "Hi grez72! You've successfully authenticated, but GitHub does not provide shell access.\n"
          ]
        }
      ],
      "source": [
        "setup_ssh_keys(\"grez72@gmail.com\", \"George Alvarez\")"
      ]
    },
    {
      "cell_type": "markdown",
      "source": [
        "# testing my private repo access"
      ],
      "metadata": {
        "id": "Ta7FcE3YZ9Ex"
      }
    },
    {
      "cell_type": "code",
      "source": [
        "!git clone git@github.com:harvard-visionlab/private-repo-test.git"
      ],
      "metadata": {
        "colab": {
          "base_uri": "https://localhost:8080/"
        },
        "id": "mNdan7C7Zvfa",
        "outputId": "468f1f62-9796-4b47-f43d-c9426430bbf6"
      },
      "execution_count": 3,
      "outputs": [
        {
          "output_type": "stream",
          "name": "stdout",
          "text": [
            "Cloning into 'private-repo-test'...\n",
            "remote: Enumerating objects: 47, done.\u001b[K\n",
            "remote: Counting objects: 100% (47/47), done.\u001b[K\n",
            "remote: Compressing objects: 100% (41/41), done.\u001b[K\n",
            "remote: Total 47 (delta 19), reused 10 (delta 3), pack-reused 0 (from 0)\u001b[K\n",
            "Receiving objects: 100% (47/47), 14.86 KiB | 7.43 MiB/s, done.\n",
            "Resolving deltas: 100% (19/19), done.\n"
          ]
        }
      ]
    },
    {
      "cell_type": "code",
      "source": [
        "%cd private-repo-test"
      ],
      "metadata": {
        "colab": {
          "base_uri": "https://localhost:8080/"
        },
        "id": "Ay132E5kaAFN",
        "outputId": "da4ae78c-0ef5-41f4-e9e3-e68e61a97423"
      },
      "execution_count": 4,
      "outputs": [
        {
          "output_type": "stream",
          "name": "stdout",
          "text": [
            "/content/private-repo-test\n"
          ]
        }
      ]
    },
    {
      "cell_type": "code",
      "source": [
        "test_filename = \"tests/test_grez72_2024_08_26_take4.txt\" # make this unique to you so you can add a new file to the repo!\n",
        "!touch {test_filename}"
      ],
      "metadata": {
        "id": "LpSbz60VaC-n"
      },
      "execution_count": 6,
      "outputs": []
    },
    {
      "cell_type": "code",
      "source": [
        "!git add .\n",
        "!git commit -m 'test private repo cloning'\n",
        "!git push origin main"
      ],
      "metadata": {
        "colab": {
          "base_uri": "https://localhost:8080/"
        },
        "id": "KPCy0rZzaHgb",
        "outputId": "349bf6e6-1566-4b86-f0fb-f2ed6d0ae19f"
      },
      "execution_count": 7,
      "outputs": [
        {
          "output_type": "stream",
          "name": "stdout",
          "text": [
            "[main 8cffc94] test private repo cloning\n",
            " 1 file changed, 0 insertions(+), 0 deletions(-)\n",
            " create mode 100644 tests/test_grez72_2024_08_26_take4.txt\n",
            "Enumerating objects: 5, done.\n",
            "Counting objects: 100% (5/5), done.\n",
            "Delta compression using up to 2 threads\n",
            "Compressing objects: 100% (3/3), done.\n",
            "Writing objects: 100% (3/3), 294 bytes | 294.00 KiB/s, done.\n",
            "Total 3 (delta 2), reused 0 (delta 0), pack-reused 0\n",
            "remote: Resolving deltas: 100% (2/2), completed with 2 local objects.\u001b[K\n",
            "To github.com:harvard-visionlab/private-repo-test.git\n",
            "   124b405..8cffc94  main -> main\n"
          ]
        }
      ]
    },
    {
      "cell_type": "code",
      "source": [],
      "metadata": {
        "id": "_G-cnzjuaINw"
      },
      "execution_count": null,
      "outputs": []
    }
  ]
}